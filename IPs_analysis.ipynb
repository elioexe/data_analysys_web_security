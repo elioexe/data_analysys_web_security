{
 "cells": [
  {
   "cell_type": "code",
   "execution_count": 30,
   "id": "a79e08af-76ad-4f93-8312-21fa5fa7a644",
   "metadata": {},
   "outputs": [
    {
     "data": {
      "text/plain": [
       "array(['Australia'], dtype=object)"
      ]
     },
     "execution_count": 30,
     "metadata": {},
     "output_type": "execute_result"
    }
   ],
   "source": [
    "import pandas as pd\n",
    "import seaborn as sns\n",
    "import matplotlib.pyplot as plt\n",
    "import ipaddress\n",
    "import numpy as np\n",
    "from scipy import stats\n",
    "from scipy.stats import chi2_contingency\n",
    "from datetime import datetime, timedelta\n",
    "import math\n",
    "import missingno as msno\n",
    "from geolite2 import geolite2\n",
    "\n",
    "import socket\n",
    "plt.style.use('ggplot')\n",
    "# sns.set(rc={'figure.figsize':(14,7)}) # For making the seaborn plots the same size\n",
    "\n",
    "def is_valid_ipv4_address(address):\n",
    "    try:\n",
    "        socket.inet_pton(socket.AF_INET, address)\n",
    "    except AttributeError:  # no inet_pton here, sorry\n",
    "        try:\n",
    "            socket.inet_aton(address)\n",
    "        except socket.error:\n",
    "            return False\n",
    "        return address.count('.') == 3\n",
    "    except socket.error:  # not a valid address\n",
    "        return False\n",
    "\n",
    "    return True\n",
    "\n",
    "geo = geolite2.reader()\n",
    "def get_country(ip):\n",
    "    try:\n",
    "        x = geo.get(ip)\n",
    "    except ValueError:\n",
    "        return pd.np.nan\n",
    "    try:\n",
    "        return x['country']['names']['en'] if x else pd.np.nan\n",
    "    except KeyError:\n",
    "        return pd.np.nan\n",
    "\n",
    "df = pd.read_csv('C:\\\\Users\\\\Pietro\\\\Documents\\\\GitHub\\\\Cybersecurity_DS\\\\Cybersecurity_attacks.csv')\n",
    "\n",
    "df['Valid Source'] = df.apply(lambda df: is_valid_ipv4_address(df['Source IP']), axis=1)\n",
    "df['Valid Source'].unique()\n",
    "\n",
    "df['Valid Destination'] = df.apply(lambda df: is_valid_ipv4_address(df['Destination IP']), axis=1)\n",
    "df['Valid Destination'].unique()\n",
    "\n",
    "df['Country'] = df.apply(lambda df: get_country(df['Destination IP']), axis=1)\n",
    "df['Country'].unique()"
   ]
  },
  {
   "cell_type": "code",
   "execution_count": null,
   "id": "743a7d39-150d-4931-8aaf-69faa5042079",
   "metadata": {},
   "outputs": [],
   "source": []
  },
  {
   "cell_type": "code",
   "execution_count": null,
   "id": "97178150-1fb5-43e9-9923-316b5e03d928",
   "metadata": {},
   "outputs": [],
   "source": []
  },
  {
   "cell_type": "code",
   "execution_count": null,
   "id": "a119779e-0620-49c6-b200-161ec648e2f8",
   "metadata": {},
   "outputs": [],
   "source": []
  }
 ],
 "metadata": {
  "kernelspec": {
   "display_name": "Python 3 (ipykernel)",
   "language": "python",
   "name": "python3"
  },
  "language_info": {
   "codemirror_mode": {
    "name": "ipython",
    "version": 3
   },
   "file_extension": ".py",
   "mimetype": "text/x-python",
   "name": "python",
   "nbconvert_exporter": "python",
   "pygments_lexer": "ipython3",
   "version": "3.10.0"
  }
 },
 "nbformat": 4,
 "nbformat_minor": 5
}
